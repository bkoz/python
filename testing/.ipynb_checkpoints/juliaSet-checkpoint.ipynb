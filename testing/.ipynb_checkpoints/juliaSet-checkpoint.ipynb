{
 "cells": [
  {
   "cell_type": "code",
   "execution_count": 4,
   "metadata": {},
   "outputs": [
    {
     "ename": "NameError",
     "evalue": "name 'd' is not defined",
     "output_type": "error",
     "traceback": [
      "\u001b[0;31m---------------------------------------------------------------------------\u001b[0m",
      "\u001b[0;31mNameError\u001b[0m                                 Traceback (most recent call last)",
      "\u001b[0;32m<ipython-input-4-20e075ad1699>\u001b[0m in \u001b[0;36m<module>\u001b[0;34m\u001b[0m\n\u001b[1;32m     64\u001b[0m     \u001b[0mplt\u001b[0m\u001b[0;34m.\u001b[0m\u001b[0mimshow\u001b[0m\u001b[0;34m(\u001b[0m\u001b[0mimg\u001b[0m\u001b[0;34m,\u001b[0m \u001b[0mcmap\u001b[0m\u001b[0;34m=\u001b[0m\u001b[0mplt\u001b[0m\u001b[0;34m.\u001b[0m\u001b[0mcm\u001b[0m\u001b[0;34m.\u001b[0m\u001b[0mjet\u001b[0m\u001b[0;34m)\u001b[0m\u001b[0;34m\u001b[0m\u001b[0;34m\u001b[0m\u001b[0m\n\u001b[1;32m     65\u001b[0m \u001b[0;34m\u001b[0m\u001b[0m\n\u001b[0;32m---> 66\u001b[0;31m \u001b[0mjulia\u001b[0m\u001b[0;34m(\u001b[0m\u001b[0;34m)\u001b[0m\u001b[0;34m\u001b[0m\u001b[0;34m\u001b[0m\u001b[0m\n\u001b[0m",
      "\u001b[0;32m<ipython-input-4-20e075ad1699>\u001b[0m in \u001b[0;36mjulia\u001b[0;34m()\u001b[0m\n\u001b[1;32m     42\u001b[0m \u001b[0;31m#     zy = scaled y coordinate of pixel # (scale to be between -R and R)\u001b[0m\u001b[0;34m\u001b[0m\u001b[0;34m\u001b[0m\u001b[0;34m\u001b[0m\u001b[0m\n\u001b[1;32m     43\u001b[0m \u001b[0;31m#        # zy represents the imaginary part of z.\u001b[0m\u001b[0;34m\u001b[0m\u001b[0;34m\u001b[0m\u001b[0;34m\u001b[0m\u001b[0m\n\u001b[0;32m---> 44\u001b[0;31m     \u001b[0mzx\u001b[0m \u001b[0;34m=\u001b[0m \u001b[0mlinspace\u001b[0m\u001b[0;34m(\u001b[0m\u001b[0;34m-\u001b[0m\u001b[0mR\u001b[0m\u001b[0;34m,\u001b[0m \u001b[0mR\u001b[0m\u001b[0;34m,\u001b[0m \u001b[0;36m4\u001b[0m \u001b[0;34m*\u001b[0m \u001b[0md\u001b[0m \u001b[0;34m+\u001b[0m \u001b[0;36m1\u001b[0m\u001b[0;34m)\u001b[0m\u001b[0;34m\u001b[0m\u001b[0;34m\u001b[0m\u001b[0m\n\u001b[0m\u001b[1;32m     45\u001b[0m     \u001b[0mzy\u001b[0m \u001b[0;34m=\u001b[0m \u001b[0mlinspace\u001b[0m\u001b[0;34m(\u001b[0m\u001b[0;34m-\u001b[0m\u001b[0mR\u001b[0m\u001b[0;34m,\u001b[0m \u001b[0mR\u001b[0m\u001b[0;34m,\u001b[0m \u001b[0;36m4\u001b[0m \u001b[0;34m*\u001b[0m \u001b[0md\u001b[0m \u001b[0;34m+\u001b[0m \u001b[0;36m1\u001b[0m\u001b[0;34m)\u001b[0m\u001b[0;34m\u001b[0m\u001b[0;34m\u001b[0m\u001b[0m\n\u001b[1;32m     46\u001b[0m     \u001b[0mimg\u001b[0m \u001b[0;34m=\u001b[0m \u001b[0mzeros\u001b[0m\u001b[0;34m(\u001b[0m\u001b[0mlen\u001b[0m\u001b[0;34m(\u001b[0m\u001b[0mzy\u001b[0m\u001b[0;34m)\u001b[0m\u001b[0;34m,\u001b[0m \u001b[0mlen\u001b[0m\u001b[0;34m(\u001b[0m\u001b[0mzx\u001b[0m\u001b[0;34m)\u001b[0m\u001b[0;34m)\u001b[0m\u001b[0;34m\u001b[0m\u001b[0;34m\u001b[0m\u001b[0m\n",
      "\u001b[0;31mNameError\u001b[0m: name 'd' is not defined"
     ]
    }
   ],
   "source": [
    "import matplotlib.pyplot as plt\n",
    "\n",
    "def linspace(start, stop, num):\n",
    "    return [start + (stop - start) / (num - 1) * k for k in range(num)]\n",
    "\n",
    "def zeros(rows, cols):\n",
    "    return [[0 for j in range(cols)] for i in range(rows)]\n",
    "\n",
    "\n",
    "# d, n = 100, 50  # pixel density & number of iterations\n",
    "# r = 2.5  # escape radius (must be greater than 2)\n",
    "\n",
    "# x = linspace(-2.5, 1.5, 4 * d + 1)\n",
    "# y = linspace(-1.5, 1.5, 3 * d + 1)\n",
    "\n",
    "# T = zeros(len(y), len(x))\n",
    "\n",
    "# for i, b in enumerate(y):\n",
    "#     for j, a in enumerate(x):\n",
    "#         u, v = 0.0, 0.0\n",
    "#         for k in range(n):\n",
    "#             u, v = u ** 2 - v ** 2 + a, 2 * u * v + b\n",
    "#             if not u ** 2 + v ** 2 < r ** 2:\n",
    "#                 break\n",
    "#         T[i][j] = k + 1\n",
    "\n",
    "# plt.imshow(T, cmap=plt.cm.jet)\n",
    "# help(plt.cm)\n",
    "# plt.savefig(\"mandelbrot.png\", dpi=200)\n",
    "\n",
    "# R = escape radius  # choose R > 0 such that R**2 - R >= sqrt(cx**2 + cy**2)\n",
    "R = 2\n",
    "d = 100 # pixel density\n",
    "\n",
    "# Julia Set\n",
    "def julia():\n",
    "    \n",
    "# for each pixel (x, y) on the screen, do:   \n",
    "# {\n",
    "#     zx = scaled x coordinate of pixel # (scale to be between -R and R)\n",
    "#        # zx represents the real part of z.\n",
    "#     zy = scaled y coordinate of pixel # (scale to be between -R and R)\n",
    "#        # zy represents the imaginary part of z.\n",
    "    zx = linspace(-R, R, 4 * d + 1)\n",
    "    zy = linspace(-R, R, 4 * d + 1)\n",
    "    img = zeros(len(zy), len(zx))\n",
    "\n",
    "    iteration = 0\n",
    "    max_iteration = 1000\n",
    "    Black = 0\n",
    "  \n",
    "    while (zx * zx + zy * zy < R**2  and  iteration < max_iteration):\n",
    "        xtemp = zx * zx - zy * zy\n",
    "        zy = 2 * zx * zy  + cy \n",
    "        zx = xtemp + cx\n",
    "    \n",
    "        iteration = iteration + 1 \n",
    "  \n",
    "        if (iteration == max_iteration):\n",
    "            img[iteration] = Black\n",
    "        else:\n",
    "            img[iteration] = iteration\n",
    "\n",
    "    plt.imshow(img, cmap=plt.cm.jet)\n",
    "\n",
    "julia()"
   ]
  },
  {
   "cell_type": "code",
   "execution_count": null,
   "metadata": {},
   "outputs": [],
   "source": []
  }
 ],
 "metadata": {
  "kernelspec": {
   "display_name": "Python 3",
   "language": "python",
   "name": "python3"
  },
  "language_info": {
   "codemirror_mode": {
    "name": "ipython",
    "version": 3
   },
   "file_extension": ".py",
   "mimetype": "text/x-python",
   "name": "python",
   "nbconvert_exporter": "python",
   "pygments_lexer": "ipython3",
   "version": "3.7.5"
  }
 },
 "nbformat": 4,
 "nbformat_minor": 2
}
