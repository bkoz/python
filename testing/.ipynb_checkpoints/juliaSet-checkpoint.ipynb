{
 "cells": [
  {
   "cell_type": "code",
   "execution_count": null,
   "metadata": {},
   "outputs": [],
   "source": [
    "# R = escape radius  # choose R > 0 such that R**2 - R >= sqrt(cx**2 + cy**2)\n",
    "\n",
    "# for each pixel (x, y) on the screen, do:   \n",
    "# {\n",
    "#     zx = scaled x coordinate of pixel # (scale to be between -R and R)\n",
    "#        # zx represents the real part of z.\n",
    "#     zy = scaled y coordinate of pixel # (scale to be between -R and R)\n",
    "#        # zy represents the imaginary part of z.\n",
    "\n",
    "#     iteration = 0\n",
    "#     max_iteration = 1000\n",
    "  \n",
    "#     while (zx * zx + zy * zy < R**2  AND  iteration < max_iteration) \n",
    "#     {\n",
    "#         xtemp = zx * zx - zy * zy\n",
    "#         zy = 2 * zx * zy  + cy \n",
    "#         zx = xtemp + cx\n",
    "    \n",
    "#         iteration = iteration + 1 \n",
    "#     }\n",
    "  \n",
    "#     if (iteration == max_iteration)\n",
    "#         return black;\n",
    "#     else\n",
    "#         return iteration;\n",
    "# }"
   ]
  }
 ],
 "metadata": {
  "kernelspec": {
   "display_name": "Python 3",
   "language": "python",
   "name": "python3"
  },
  "language_info": {
   "codemirror_mode": {
    "name": "ipython",
    "version": 3
   },
   "file_extension": ".py",
   "mimetype": "text/x-python",
   "name": "python",
   "nbconvert_exporter": "python",
   "pygments_lexer": "ipython3",
   "version": "3.7.5"
  }
 },
 "nbformat": 4,
 "nbformat_minor": 2
}
