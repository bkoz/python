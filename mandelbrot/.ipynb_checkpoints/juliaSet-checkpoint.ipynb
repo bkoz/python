{
 "cells": [
  {
   "cell_type": "code",
   "execution_count": 23,
   "metadata": {},
   "outputs": [
    {
     "name": "stdout",
     "output_type": "stream",
     "text": [
      "Escape radius check: 2 >= 0.8000479595624252\n"
     ]
    },
    {
     "data": {
      "image/png": "[encoded data removed]",
      "text/plain": [
       "<Figure size 432x288 with 1 Axes>"
      ]
     },
     "metadata": {
      "needs_background": "light"
     },
     "output_type": "display_data"
    }
   ],
   "source": [
    "import matplotlib.pyplot as plt\n",
    "import math\n",
    "\n",
    "def linspace(start, stop, num):\n",
    "    return [start + (stop - start) / (num - 1) * k for k in range(num)]\n",
    "\n",
    "def zeros(rows, cols):\n",
    "    return [[0 for j in range(cols)] for i in range(rows)]\n",
    "\n",
    "\n",
    "# d, n = 100, 50  # pixel density & number of iterations\n",
    "# r = 2.5  # escape radius (must be greater than 2)\n",
    "\n",
    "# x = linspace(-2.5, 1.5, 4 * d + 1)\n",
    "# y = linspace(-1.5, 1.5, 3 * d + 1)\n",
    "\n",
    "# T = zeros(len(y), len(x))\n",
    "\n",
    "# for i, b in enumerate(y):\n",
    "#     for j, a in enumerate(x):\n",
    "#         u, v = 0.0, 0.0\n",
    "#         for k in range(n):\n",
    "#             u, v = u ** 2 - v ** 2 + a, 2 * u * v + b\n",
    "#             if not u ** 2 + v ** 2 < r ** 2:\n",
    "#                 break\n",
    "#         T[i][j] = k + 1\n",
    "\n",
    "# plt.imshow(T, cmap=plt.cm.jet)\n",
    "# help(plt.cm)\n",
    "# plt.savefig(\"mandelbrot.png\", dpi=200)\n",
    "\n",
    "\n",
    "# Julia Set\n",
    "def julia():\n",
    "    \n",
    "# for each pixel (x, y) on the screen, do:   \n",
    "# {\n",
    "#     zx = scaled x coordinate of pixel # (scale to be between -R and R)\n",
    "#        # zx represents the real part of z.\n",
    "#     zy = scaled y coordinate of pixel # (scale to be between -R and R)\n",
    "#        # zy represents the imaginary part of z.\n",
    "    # R = escape radius  # choose R > 0 such that R**2 - R >= sqrt(cx**2 + cy**2)\n",
    "    R = 2\n",
    "    d = 100 # pixel density\n",
    "    max_iteration = 1000\n",
    "    Black = 0\n",
    "    # Julia set for fc, c = −0.70176 − 0.3842i\n",
    "    cx = -0.70176\n",
    "    cy = -0.3842\n",
    "    print('Escape radius check: {} >= {}'.format(R**2 - R, math.sqrt(cx**2 + cy**2)))\n",
    "    real = linspace(-R, R, 4 * d + 1)\n",
    "    imaginary = linspace(-R, R, 4 * d + 1)\n",
    "    img = zeros(len(real), len(imaginary))\n",
    "\n",
    "    for y, zy in enumerate(imaginary):\n",
    "        for x , zx in enumerate(real):\n",
    "            i = 0\n",
    "            \n",
    "            while (zx * zx + zy * zy < R**2  and  i < max_iteration):\n",
    "                xtemp = zx * zx - zy * zy\n",
    "                zy = 2 * zx * zy + cy \n",
    "                zx = xtemp + cx\n",
    "\n",
    "                i += 1 \n",
    "\n",
    "                if (i == max_iteration):\n",
    "                    img[y][x] = Black\n",
    "                else:\n",
    "                    img[y][x] = i\n",
    "\n",
    "    plt.imshow(img, cmap=plt.cm.jet)\n",
    "\n",
    "julia()"
   ]
  },
  {
   "cell_type": "code",
   "execution_count": null,
   "metadata": {},
   "outputs": [],
   "source": []
  }
 ],
 "metadata": {
  "kernelspec": {
   "display_name": "Python 3",
   "language": "python",
   "name": "python3"
  },
  "language_info": {
   "codemirror_mode": {
    "name": "ipython",
    "version": 3
   },
   "file_extension": ".py",
   "mimetype": "text/x-python",
   "name": "python",
   "nbconvert_exporter": "python",
   "pygments_lexer": "ipython3",
   "version": "3.7.5"
  }
 },
 "nbformat": 4,
 "nbformat_minor": 2
}
