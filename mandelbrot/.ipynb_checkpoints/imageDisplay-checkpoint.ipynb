{
 "cells": [
  {
   "cell_type": "code",
   "execution_count": null,
   "metadata": {},
   "outputs": [],
   "source": [
    "# Install a conda package in the current Jupyter kernel\n",
    "import sys\n",
    "!conda install --yes --prefix {sys.prefix} pillow"
   ]
  },
  {
   "cell_type": "code",
   "execution_count": null,
   "metadata": {},
   "outputs": [],
   "source": [
    "import PIL\n",
    "from PIL import Image\n",
    "import numpy as np\n",
    "\n",
    "#img = Image.open('felix-kozdemba.jpg')\n",
    "\n",
    "def buildColorMap332():\n",
    "    i = 0\n",
    "    cmap = {}\n",
    "    for r in range(8):\n",
    "        for g in range(8):\n",
    "            for b in range(4):\n",
    "                cmap[i] = (int(r/7*255), int(g/7*255), int(b/3*255))\n",
    "                i += 1\n",
    "    return cmap\n",
    "\n",
    "def buildColorMapGradient(fromC, toC):\n",
    "    \"\"\"\n",
    "    Linear Interpolate between 2 colors.\n",
    "    \n",
    "    Param: fromC: The from color rgb tuple\n",
    "    Param: toC: The to color rgb tuple\n",
    "    Returns: A colormap dictionary\n",
    "    \"\"\"\n",
    "    cmap = {}\n",
    "    ranges = [0, 1, 2]\n",
    "\n",
    "    for i in range(3):\n",
    "        ranges[i] = toC[i] - fromC[i]\n",
    "\n",
    "    for i in range(256):\n",
    "        cmap[i] = (int(fromC[0] + ranges[0] * i/255),\n",
    "        int(fromC[1] + ranges[1]*i/255),\n",
    "        int(fromC[2]+ranges[2]*i/255))\n",
    "     \n",
    "    return cmap\n",
    "\n",
    "#\n",
    "# Main\n",
    "#\n",
    "size = (256, 256, 3)\n",
    "fromC=(0, 0, 255)\n",
    "toC=(255, 255, 255)\n",
    "cm = buildColorMapGradient(fromC, toC)\n",
    "i = np.zeros(size, dtype=np.int8)\n",
    "for y in range(size[1]):\n",
    "    for x in range(size[0]):\n",
    "            i[y][x] = cm[y]\n",
    "            \n",
    "img = Image.fromarray(i, mode='RGB')\n",
    "img.show()\n",
    "\n"
   ]
  }
 ],
 "metadata": {
  "kernelspec": {
   "display_name": "Python 3",
   "language": "python",
   "name": "python3"
  },
  "language_info": {
   "codemirror_mode": {
    "name": "ipython",
    "version": 3
   },
   "file_extension": ".py",
   "mimetype": "text/x-python",
   "name": "python",
   "nbconvert_exporter": "python",
   "pygments_lexer": "ipython3",
   "version": "3.7.5"
  }
 },
 "nbformat": 4,
 "nbformat_minor": 2
}
